{
 "cells": [
  {
   "cell_type": "markdown",
   "metadata": {},
   "source": [
    "# Задача № 2 (Семинар 11)"
   ]
  },
  {
   "cell_type": "code",
   "execution_count": 3,
   "metadata": {},
   "outputs": [],
   "source": [
    "import pandas as pd \n",
    "import numpy as np\n",
    "from numpy.linalg import inv\n",
    "from sklearn.metrics import mean_squared_error\n",
    "import statsmodels.api as sm"
   ]
  },
  {
   "cell_type": "code",
   "execution_count": 3,
   "metadata": {},
   "outputs": [],
   "source": [
    "df = pd.read_excel('sem_11.xlsx')"
   ]
  },
  {
   "cell_type": "code",
   "execution_count": 4,
   "metadata": {
    "scrolled": true
   },
   "outputs": [
    {
     "data": {
      "text/html": [
       "<div>\n",
       "<style scoped>\n",
       "    .dataframe tbody tr th:only-of-type {\n",
       "        vertical-align: middle;\n",
       "    }\n",
       "\n",
       "    .dataframe tbody tr th {\n",
       "        vertical-align: top;\n",
       "    }\n",
       "\n",
       "    .dataframe thead th {\n",
       "        text-align: right;\n",
       "    }\n",
       "</style>\n",
       "<table border=\"1\" class=\"dataframe\">\n",
       "  <thead>\n",
       "    <tr style=\"text-align: right;\">\n",
       "      <th></th>\n",
       "      <th>CONST</th>\n",
       "      <th>Y1</th>\n",
       "      <th>X1</th>\n",
       "      <th>X2</th>\n",
       "      <th>U1</th>\n",
       "      <th>U2</th>\n",
       "    </tr>\n",
       "  </thead>\n",
       "  <tbody>\n",
       "    <tr>\n",
       "      <th>0</th>\n",
       "      <td>1</td>\n",
       "      <td>56.7</td>\n",
       "      <td>104.3</td>\n",
       "      <td>270</td>\n",
       "      <td>97.8</td>\n",
       "      <td>102.0054</td>\n",
       "    </tr>\n",
       "    <tr>\n",
       "      <th>1</th>\n",
       "      <td>1</td>\n",
       "      <td>64.5</td>\n",
       "      <td>94.2</td>\n",
       "      <td>172</td>\n",
       "      <td>105.7</td>\n",
       "      <td>99.5694</td>\n",
       "    </tr>\n",
       "    <tr>\n",
       "      <th>2</th>\n",
       "      <td>1</td>\n",
       "      <td>53.3</td>\n",
       "      <td>102.8</td>\n",
       "      <td>324</td>\n",
       "      <td>103.3</td>\n",
       "      <td>106.1924</td>\n",
       "    </tr>\n",
       "    <tr>\n",
       "      <th>3</th>\n",
       "      <td>1</td>\n",
       "      <td>82.6</td>\n",
       "      <td>98.7</td>\n",
       "      <td>428</td>\n",
       "      <td>95.1</td>\n",
       "      <td>93.8637</td>\n",
       "    </tr>\n",
       "    <tr>\n",
       "      <th>4</th>\n",
       "      <td>1</td>\n",
       "      <td>62.0</td>\n",
       "      <td>99.8</td>\n",
       "      <td>420</td>\n",
       "      <td>100.5</td>\n",
       "      <td>100.2990</td>\n",
       "    </tr>\n",
       "  </tbody>\n",
       "</table>\n",
       "</div>"
      ],
      "text/plain": [
       "   CONST    Y1     X1   X2     U1        U2\n",
       "0      1  56.7  104.3  270   97.8  102.0054\n",
       "1      1  64.5   94.2  172  105.7   99.5694\n",
       "2      1  53.3  102.8  324  103.3  106.1924\n",
       "3      1  82.6   98.7  428   95.1   93.8637\n",
       "4      1  62.0   99.8  420  100.5  100.2990"
      ]
     },
     "execution_count": 4,
     "metadata": {},
     "output_type": "execute_result"
    }
   ],
   "source": [
    "df.head()"
   ]
  },
  {
   "cell_type": "code",
   "execution_count": 5,
   "metadata": {},
   "outputs": [],
   "source": [
    "y_matrix = df.drop(['X1', 'X2', 'U1', 'U2', 'CONST'], axis = 1)\n",
    "x_matrix = df.drop(['Y1', 'U1', 'U2'], axis = 1)\n",
    "z_matrix = df.drop(['Y1', 'X2', 'U1'], axis = 1)"
   ]
  },
  {
   "cell_type": "code",
   "execution_count": 37,
   "metadata": {},
   "outputs": [
    {
     "data": {
      "text/html": [
       "<div>\n",
       "<style scoped>\n",
       "    .dataframe tbody tr th:only-of-type {\n",
       "        vertical-align: middle;\n",
       "    }\n",
       "\n",
       "    .dataframe tbody tr th {\n",
       "        vertical-align: top;\n",
       "    }\n",
       "\n",
       "    .dataframe thead th {\n",
       "        text-align: right;\n",
       "    }\n",
       "</style>\n",
       "<table border=\"1\" class=\"dataframe\">\n",
       "  <thead>\n",
       "    <tr style=\"text-align: right;\">\n",
       "      <th></th>\n",
       "      <th>CONST</th>\n",
       "      <th>X1</th>\n",
       "      <th>X2</th>\n",
       "    </tr>\n",
       "  </thead>\n",
       "  <tbody>\n",
       "    <tr>\n",
       "      <th>0</th>\n",
       "      <td>1</td>\n",
       "      <td>104.3</td>\n",
       "      <td>270</td>\n",
       "    </tr>\n",
       "    <tr>\n",
       "      <th>1</th>\n",
       "      <td>1</td>\n",
       "      <td>94.2</td>\n",
       "      <td>172</td>\n",
       "    </tr>\n",
       "    <tr>\n",
       "      <th>2</th>\n",
       "      <td>1</td>\n",
       "      <td>102.8</td>\n",
       "      <td>324</td>\n",
       "    </tr>\n",
       "    <tr>\n",
       "      <th>3</th>\n",
       "      <td>1</td>\n",
       "      <td>98.7</td>\n",
       "      <td>428</td>\n",
       "    </tr>\n",
       "    <tr>\n",
       "      <th>4</th>\n",
       "      <td>1</td>\n",
       "      <td>99.8</td>\n",
       "      <td>420</td>\n",
       "    </tr>\n",
       "    <tr>\n",
       "      <th>5</th>\n",
       "      <td>1</td>\n",
       "      <td>100.5</td>\n",
       "      <td>473</td>\n",
       "    </tr>\n",
       "    <tr>\n",
       "      <th>6</th>\n",
       "      <td>1</td>\n",
       "      <td>112.8</td>\n",
       "      <td>82</td>\n",
       "    </tr>\n",
       "    <tr>\n",
       "      <th>7</th>\n",
       "      <td>1</td>\n",
       "      <td>106.7</td>\n",
       "      <td>276</td>\n",
       "    </tr>\n",
       "    <tr>\n",
       "      <th>8</th>\n",
       "      <td>1</td>\n",
       "      <td>100.3</td>\n",
       "      <td>409</td>\n",
       "    </tr>\n",
       "    <tr>\n",
       "      <th>9</th>\n",
       "      <td>1</td>\n",
       "      <td>105.0</td>\n",
       "      <td>191</td>\n",
       "    </tr>\n",
       "    <tr>\n",
       "      <th>10</th>\n",
       "      <td>1</td>\n",
       "      <td>105.6</td>\n",
       "      <td>231</td>\n",
       "    </tr>\n",
       "    <tr>\n",
       "      <th>11</th>\n",
       "      <td>1</td>\n",
       "      <td>106.2</td>\n",
       "      <td>131</td>\n",
       "    </tr>\n",
       "    <tr>\n",
       "      <th>12</th>\n",
       "      <td>1</td>\n",
       "      <td>110.3</td>\n",
       "      <td>115</td>\n",
       "    </tr>\n",
       "    <tr>\n",
       "      <th>13</th>\n",
       "      <td>1</td>\n",
       "      <td>105.9</td>\n",
       "      <td>202</td>\n",
       "    </tr>\n",
       "    <tr>\n",
       "      <th>14</th>\n",
       "      <td>1</td>\n",
       "      <td>105.8</td>\n",
       "      <td>223</td>\n",
       "    </tr>\n",
       "  </tbody>\n",
       "</table>\n",
       "</div>"
      ],
      "text/plain": [
       "    CONST     X1   X2\n",
       "0       1  104.3  270\n",
       "1       1   94.2  172\n",
       "2       1  102.8  324\n",
       "3       1   98.7  428\n",
       "4       1   99.8  420\n",
       "5       1  100.5  473\n",
       "6       1  112.8   82\n",
       "7       1  106.7  276\n",
       "8       1  100.3  409\n",
       "9       1  105.0  191\n",
       "10      1  105.6  231\n",
       "11      1  106.2  131\n",
       "12      1  110.3  115\n",
       "13      1  105.9  202\n",
       "14      1  105.8  223"
      ]
     },
     "execution_count": 37,
     "metadata": {},
     "output_type": "execute_result"
    }
   ],
   "source": [
    "x_matrix #матрица регрессоров"
   ]
  },
  {
   "cell_type": "code",
   "execution_count": 38,
   "metadata": {},
   "outputs": [
    {
     "data": {
      "text/html": [
       "<div>\n",
       "<style scoped>\n",
       "    .dataframe tbody tr th:only-of-type {\n",
       "        vertical-align: middle;\n",
       "    }\n",
       "\n",
       "    .dataframe tbody tr th {\n",
       "        vertical-align: top;\n",
       "    }\n",
       "\n",
       "    .dataframe thead th {\n",
       "        text-align: right;\n",
       "    }\n",
       "</style>\n",
       "<table border=\"1\" class=\"dataframe\">\n",
       "  <thead>\n",
       "    <tr style=\"text-align: right;\">\n",
       "      <th></th>\n",
       "      <th>Y1</th>\n",
       "    </tr>\n",
       "  </thead>\n",
       "  <tbody>\n",
       "    <tr>\n",
       "      <th>0</th>\n",
       "      <td>56.7</td>\n",
       "    </tr>\n",
       "    <tr>\n",
       "      <th>1</th>\n",
       "      <td>64.5</td>\n",
       "    </tr>\n",
       "    <tr>\n",
       "      <th>2</th>\n",
       "      <td>53.3</td>\n",
       "    </tr>\n",
       "    <tr>\n",
       "      <th>3</th>\n",
       "      <td>82.6</td>\n",
       "    </tr>\n",
       "    <tr>\n",
       "      <th>4</th>\n",
       "      <td>62.0</td>\n",
       "    </tr>\n",
       "    <tr>\n",
       "      <th>5</th>\n",
       "      <td>61.3</td>\n",
       "    </tr>\n",
       "    <tr>\n",
       "      <th>6</th>\n",
       "      <td>25.7</td>\n",
       "    </tr>\n",
       "    <tr>\n",
       "      <th>7</th>\n",
       "      <td>36.1</td>\n",
       "    </tr>\n",
       "    <tr>\n",
       "      <th>8</th>\n",
       "      <td>69.7</td>\n",
       "    </tr>\n",
       "    <tr>\n",
       "      <th>9</th>\n",
       "      <td>46.4</td>\n",
       "    </tr>\n",
       "    <tr>\n",
       "      <th>10</th>\n",
       "      <td>53.5</td>\n",
       "    </tr>\n",
       "    <tr>\n",
       "      <th>11</th>\n",
       "      <td>41.2</td>\n",
       "    </tr>\n",
       "    <tr>\n",
       "      <th>12</th>\n",
       "      <td>46.6</td>\n",
       "    </tr>\n",
       "    <tr>\n",
       "      <th>13</th>\n",
       "      <td>48.3</td>\n",
       "    </tr>\n",
       "    <tr>\n",
       "      <th>14</th>\n",
       "      <td>56.1</td>\n",
       "    </tr>\n",
       "  </tbody>\n",
       "</table>\n",
       "</div>"
      ],
      "text/plain": [
       "      Y1\n",
       "0   56.7\n",
       "1   64.5\n",
       "2   53.3\n",
       "3   82.6\n",
       "4   62.0\n",
       "5   61.3\n",
       "6   25.7\n",
       "7   36.1\n",
       "8   69.7\n",
       "9   46.4\n",
       "10  53.5\n",
       "11  41.2\n",
       "12  46.6\n",
       "13  48.3\n",
       "14  56.1"
      ]
     },
     "execution_count": 38,
     "metadata": {},
     "output_type": "execute_result"
    }
   ],
   "source": [
    "y_matrix # зависимая переменная"
   ]
  },
  {
   "cell_type": "code",
   "execution_count": 39,
   "metadata": {},
   "outputs": [
    {
     "data": {
      "text/html": [
       "<div>\n",
       "<style scoped>\n",
       "    .dataframe tbody tr th:only-of-type {\n",
       "        vertical-align: middle;\n",
       "    }\n",
       "\n",
       "    .dataframe tbody tr th {\n",
       "        vertical-align: top;\n",
       "    }\n",
       "\n",
       "    .dataframe thead th {\n",
       "        text-align: right;\n",
       "    }\n",
       "</style>\n",
       "<table border=\"1\" class=\"dataframe\">\n",
       "  <thead>\n",
       "    <tr style=\"text-align: right;\">\n",
       "      <th></th>\n",
       "      <th>CONST</th>\n",
       "      <th>X1</th>\n",
       "      <th>U2</th>\n",
       "    </tr>\n",
       "  </thead>\n",
       "  <tbody>\n",
       "    <tr>\n",
       "      <th>0</th>\n",
       "      <td>1</td>\n",
       "      <td>104.3</td>\n",
       "      <td>102.0054</td>\n",
       "    </tr>\n",
       "    <tr>\n",
       "      <th>1</th>\n",
       "      <td>1</td>\n",
       "      <td>94.2</td>\n",
       "      <td>99.5694</td>\n",
       "    </tr>\n",
       "    <tr>\n",
       "      <th>2</th>\n",
       "      <td>1</td>\n",
       "      <td>102.8</td>\n",
       "      <td>106.1924</td>\n",
       "    </tr>\n",
       "    <tr>\n",
       "      <th>3</th>\n",
       "      <td>1</td>\n",
       "      <td>98.7</td>\n",
       "      <td>93.8637</td>\n",
       "    </tr>\n",
       "    <tr>\n",
       "      <th>4</th>\n",
       "      <td>1</td>\n",
       "      <td>99.8</td>\n",
       "      <td>100.2990</td>\n",
       "    </tr>\n",
       "    <tr>\n",
       "      <th>5</th>\n",
       "      <td>1</td>\n",
       "      <td>100.5</td>\n",
       "      <td>101.9070</td>\n",
       "    </tr>\n",
       "    <tr>\n",
       "      <th>6</th>\n",
       "      <td>1</td>\n",
       "      <td>112.8</td>\n",
       "      <td>124.1928</td>\n",
       "    </tr>\n",
       "    <tr>\n",
       "      <th>7</th>\n",
       "      <td>1</td>\n",
       "      <td>106.7</td>\n",
       "      <td>107.4469</td>\n",
       "    </tr>\n",
       "    <tr>\n",
       "      <th>8</th>\n",
       "      <td>1</td>\n",
       "      <td>100.3</td>\n",
       "      <td>102.3060</td>\n",
       "    </tr>\n",
       "    <tr>\n",
       "      <th>9</th>\n",
       "      <td>1</td>\n",
       "      <td>105.0</td>\n",
       "      <td>106.9950</td>\n",
       "    </tr>\n",
       "    <tr>\n",
       "      <th>10</th>\n",
       "      <td>1</td>\n",
       "      <td>105.6</td>\n",
       "      <td>112.4640</td>\n",
       "    </tr>\n",
       "    <tr>\n",
       "      <th>11</th>\n",
       "      <td>1</td>\n",
       "      <td>106.2</td>\n",
       "      <td>114.3774</td>\n",
       "    </tr>\n",
       "    <tr>\n",
       "      <th>12</th>\n",
       "      <td>1</td>\n",
       "      <td>110.3</td>\n",
       "      <td>120.3373</td>\n",
       "    </tr>\n",
       "    <tr>\n",
       "      <th>13</th>\n",
       "      <td>1</td>\n",
       "      <td>105.9</td>\n",
       "      <td>108.9711</td>\n",
       "    </tr>\n",
       "    <tr>\n",
       "      <th>14</th>\n",
       "      <td>1</td>\n",
       "      <td>105.8</td>\n",
       "      <td>106.0116</td>\n",
       "    </tr>\n",
       "  </tbody>\n",
       "</table>\n",
       "</div>"
      ],
      "text/plain": [
       "    CONST     X1        U2\n",
       "0       1  104.3  102.0054\n",
       "1       1   94.2   99.5694\n",
       "2       1  102.8  106.1924\n",
       "3       1   98.7   93.8637\n",
       "4       1   99.8  100.2990\n",
       "5       1  100.5  101.9070\n",
       "6       1  112.8  124.1928\n",
       "7       1  106.7  107.4469\n",
       "8       1  100.3  102.3060\n",
       "9       1  105.0  106.9950\n",
       "10      1  105.6  112.4640\n",
       "11      1  106.2  114.3774\n",
       "12      1  110.3  120.3373\n",
       "13      1  105.9  108.9711\n",
       "14      1  105.8  106.0116"
      ]
     },
     "execution_count": 39,
     "metadata": {},
     "output_type": "execute_result"
    }
   ],
   "source": [
    "z_matrix # матрица условий"
   ]
  },
  {
   "cell_type": "code",
   "execution_count": 40,
   "metadata": {},
   "outputs": [],
   "source": [
    "# транспонируем матрицы для дальнейших вычислений\n",
    "x_tr = x_matrix.transpose()\n",
    "z_tr = z_matrix.transpose()"
   ]
  },
  {
   "cell_type": "code",
   "execution_count": 10,
   "metadata": {},
   "outputs": [],
   "source": [
    "ztrx = np.dot(z_tr,x_matrix)"
   ]
  },
  {
   "cell_type": "code",
   "execution_count": 11,
   "metadata": {},
   "outputs": [],
   "source": [
    "inverted = inv(ztrx)"
   ]
  },
  {
   "cell_type": "code",
   "execution_count": 12,
   "metadata": {},
   "outputs": [],
   "source": [
    "ztry = np.dot(z_tr, y_matrix)"
   ]
  },
  {
   "cell_type": "code",
   "execution_count": 13,
   "metadata": {},
   "outputs": [],
   "source": [
    "betta_iv = np.dot(inverted,ztry)"
   ]
  },
  {
   "cell_type": "code",
   "execution_count": 14,
   "metadata": {},
   "outputs": [
    {
     "data": {
      "text/plain": [
       "array([[ 1.87503732e+02],\n",
       "       [-1.44402792e+00],\n",
       "       [ 6.14489830e-02]])"
      ]
     },
     "execution_count": 14,
     "metadata": {},
     "output_type": "execute_result"
    }
   ],
   "source": [
    "betta_iv"
   ]
  },
  {
   "cell_type": "code",
   "execution_count": 41,
   "metadata": {},
   "outputs": [
    {
     "data": {
      "text/plain": [
       "array([[43.1597486 ],\n",
       "       [57.59474083],\n",
       "       [45.58307737],\n",
       "       [50.74600575],\n",
       "       [49.55301768],\n",
       "       [48.6410081 ],\n",
       "       [32.24890448],\n",
       "       [40.02845624],\n",
       "       [48.95433183],\n",
       "       [42.45553491],\n",
       "       [41.92518265],\n",
       "       [41.17634238],\n",
       "       [35.62205772],\n",
       "       [41.27733912],\n",
       "       [41.23988364]])"
      ]
     },
     "execution_count": 41,
     "metadata": {},
     "output_type": "execute_result"
    }
   ],
   "source": [
    "y_hat = np.dot(z_matrix,betta_iv) # нахожу оценку y с крышей\n",
    "y_hat"
   ]
  },
  {
   "cell_type": "code",
   "execution_count": 42,
   "metadata": {},
   "outputs": [
    {
     "name": "stdout",
     "output_type": "stream",
     "text": [
      "sigma =  220.77681412636255\n"
     ]
    }
   ],
   "source": [
    "var_py = mean_squared_error(y_matrix, y_hat) #не скорректированная дисперсия\n",
    "var_y = (var_py*len(z_matrix))/(len(z_matrix)-3) # скорректированная, искомая дисперсия\n",
    "print('sigma = ', var_y)"
   ]
  },
  {
   "cell_type": "code",
   "execution_count": 43,
   "metadata": {
    "scrolled": true
   },
   "outputs": [
    {
     "name": "stdout",
     "output_type": "stream",
     "text": [
      "[[3.31165221e+03 3.44168976e+05 8.71406085e+05]\n",
      " [3.44168976e+05 3.58365168e+07 8.94408159e+07]\n",
      " [8.71406085e+05 8.94408159e+07 2.57692375e+08]]\n"
     ]
    }
   ],
   "source": [
    "#найдем матрицу ковариации\n",
    "xtz = np.dot(x_tr, z_matrix)\n",
    "ztz = np.dot(z_tr, z_matrix)\n",
    "invz = inv(ztz)\n",
    "xtzinvz = np.dot(xtz,invz)\n",
    "covar = np.dot(xtzinvz,ztrx)\n",
    "covar = var_y * covar\n",
    "print(covar)"
   ]
  },
  {
   "cell_type": "markdown",
   "metadata": {},
   "source": [
    "### Проверим готовой функцией результаты (как в пакете)"
   ]
  },
  {
   "cell_type": "code",
   "execution_count": 44,
   "metadata": {},
   "outputs": [
    {
     "name": "stdout",
     "output_type": "stream",
     "text": [
      "                          IV-2SLS Estimation Summary                          \n",
      "==============================================================================\n",
      "Dep. Variable:                     Y1   R-squared:                      0.7144\n",
      "Estimator:                    IV-2SLS   Adj. R-squared:                 0.6668\n",
      "No. Observations:                  15   F-statistic:                    38.677\n",
      "Date:                Sun, Mar 31 2019   P-value (F-stat)                0.0000\n",
      "Time:                        14:04:16   Distribution:                  chi2(2)\n",
      "Cov. Estimator:            unadjusted                                         \n",
      "                                                                              \n",
      "                             Parameter Estimates                              \n",
      "==============================================================================\n",
      "            Parameter  Std. Err.     T-stat    P-value    Lower CI    Upper CI\n",
      "------------------------------------------------------------------------------\n",
      "CONST          180.94     77.028     2.3491     0.0188      29.972      331.92\n",
      "X1            -1.3872     0.6733    -2.0602     0.0394     -2.7069     -0.0675\n",
      "X2             0.0639     0.0328     1.9469     0.0515     -0.0004      0.1283\n",
      "==============================================================================\n",
      "\n",
      "Endogenous: X1, X2\n",
      "Instruments: U1, U2\n",
      "Unadjusted Covariance (Homoskedastic)\n",
      "Debiased: False\n"
     ]
    }
   ],
   "source": [
    "endog_iv = x_matrix.drop('CONST', axis = 1)\n",
    "instruments_iv = df.drop(['Y1', 'CONST', 'X1', 'X2'], axis = 1)\n",
    "from linearmodels.iv import IV2SLS\n",
    "iv = IV2SLS(dependent=y_matrix,\n",
    "            exog=df['CONST'],\n",
    "            endog=endog_iv,\n",
    "            instruments=instruments_iv).fit(cov_type='unadjusted')\n",
    "\n",
    "print(iv.summary)"
   ]
  },
  {
   "cell_type": "markdown",
   "metadata": {},
   "source": [
    "### Оценка коэффициентов методом 2-мнк по формуле, руками"
   ]
  },
  {
   "cell_type": "code",
   "execution_count": 46,
   "metadata": {},
   "outputs": [
    {
     "data": {
      "text/html": [
       "<div>\n",
       "<style scoped>\n",
       "    .dataframe tbody tr th:only-of-type {\n",
       "        vertical-align: middle;\n",
       "    }\n",
       "\n",
       "    .dataframe tbody tr th {\n",
       "        vertical-align: top;\n",
       "    }\n",
       "\n",
       "    .dataframe thead th {\n",
       "        text-align: right;\n",
       "    }\n",
       "</style>\n",
       "<table border=\"1\" class=\"dataframe\">\n",
       "  <thead>\n",
       "    <tr style=\"text-align: right;\">\n",
       "      <th></th>\n",
       "      <th>CONST</th>\n",
       "      <th>X1</th>\n",
       "      <th>U1</th>\n",
       "      <th>U2</th>\n",
       "    </tr>\n",
       "  </thead>\n",
       "  <tbody>\n",
       "    <tr>\n",
       "      <th>0</th>\n",
       "      <td>1</td>\n",
       "      <td>104.3</td>\n",
       "      <td>97.8</td>\n",
       "      <td>102.0054</td>\n",
       "    </tr>\n",
       "    <tr>\n",
       "      <th>1</th>\n",
       "      <td>1</td>\n",
       "      <td>94.2</td>\n",
       "      <td>105.7</td>\n",
       "      <td>99.5694</td>\n",
       "    </tr>\n",
       "    <tr>\n",
       "      <th>2</th>\n",
       "      <td>1</td>\n",
       "      <td>102.8</td>\n",
       "      <td>103.3</td>\n",
       "      <td>106.1924</td>\n",
       "    </tr>\n",
       "    <tr>\n",
       "      <th>3</th>\n",
       "      <td>1</td>\n",
       "      <td>98.7</td>\n",
       "      <td>95.1</td>\n",
       "      <td>93.8637</td>\n",
       "    </tr>\n",
       "    <tr>\n",
       "      <th>4</th>\n",
       "      <td>1</td>\n",
       "      <td>99.8</td>\n",
       "      <td>100.5</td>\n",
       "      <td>100.2990</td>\n",
       "    </tr>\n",
       "    <tr>\n",
       "      <th>5</th>\n",
       "      <td>1</td>\n",
       "      <td>100.5</td>\n",
       "      <td>101.4</td>\n",
       "      <td>101.9070</td>\n",
       "    </tr>\n",
       "    <tr>\n",
       "      <th>6</th>\n",
       "      <td>1</td>\n",
       "      <td>112.8</td>\n",
       "      <td>110.1</td>\n",
       "      <td>124.1928</td>\n",
       "    </tr>\n",
       "    <tr>\n",
       "      <th>7</th>\n",
       "      <td>1</td>\n",
       "      <td>106.7</td>\n",
       "      <td>100.7</td>\n",
       "      <td>107.4469</td>\n",
       "    </tr>\n",
       "    <tr>\n",
       "      <th>8</th>\n",
       "      <td>1</td>\n",
       "      <td>100.3</td>\n",
       "      <td>102.0</td>\n",
       "      <td>102.3060</td>\n",
       "    </tr>\n",
       "    <tr>\n",
       "      <th>9</th>\n",
       "      <td>1</td>\n",
       "      <td>105.0</td>\n",
       "      <td>101.9</td>\n",
       "      <td>106.9950</td>\n",
       "    </tr>\n",
       "    <tr>\n",
       "      <th>10</th>\n",
       "      <td>1</td>\n",
       "      <td>105.6</td>\n",
       "      <td>106.5</td>\n",
       "      <td>112.4640</td>\n",
       "    </tr>\n",
       "    <tr>\n",
       "      <th>11</th>\n",
       "      <td>1</td>\n",
       "      <td>106.2</td>\n",
       "      <td>107.7</td>\n",
       "      <td>114.3774</td>\n",
       "    </tr>\n",
       "    <tr>\n",
       "      <th>12</th>\n",
       "      <td>1</td>\n",
       "      <td>110.3</td>\n",
       "      <td>109.1</td>\n",
       "      <td>120.3373</td>\n",
       "    </tr>\n",
       "    <tr>\n",
       "      <th>13</th>\n",
       "      <td>1</td>\n",
       "      <td>105.9</td>\n",
       "      <td>102.9</td>\n",
       "      <td>108.9711</td>\n",
       "    </tr>\n",
       "    <tr>\n",
       "      <th>14</th>\n",
       "      <td>1</td>\n",
       "      <td>105.8</td>\n",
       "      <td>100.2</td>\n",
       "      <td>106.0116</td>\n",
       "    </tr>\n",
       "  </tbody>\n",
       "</table>\n",
       "</div>"
      ],
      "text/plain": [
       "    CONST     X1     U1        U2\n",
       "0       1  104.3   97.8  102.0054\n",
       "1       1   94.2  105.7   99.5694\n",
       "2       1  102.8  103.3  106.1924\n",
       "3       1   98.7   95.1   93.8637\n",
       "4       1   99.8  100.5  100.2990\n",
       "5       1  100.5  101.4  101.9070\n",
       "6       1  112.8  110.1  124.1928\n",
       "7       1  106.7  100.7  107.4469\n",
       "8       1  100.3  102.0  102.3060\n",
       "9       1  105.0  101.9  106.9950\n",
       "10      1  105.6  106.5  112.4640\n",
       "11      1  106.2  107.7  114.3774\n",
       "12      1  110.3  109.1  120.3373\n",
       "13      1  105.9  102.9  108.9711\n",
       "14      1  105.8  100.2  106.0116"
      ]
     },
     "execution_count": 46,
     "metadata": {},
     "output_type": "execute_result"
    }
   ],
   "source": [
    "# найдем 2-мнк оценку бетта, для этого введем новую матрицу Z, которая состит из инструментальных переменных U1, U2\n",
    "z = df.drop(['Y1', 'X2'], axis = 1)\n",
    "z"
   ]
  },
  {
   "cell_type": "code",
   "execution_count": 47,
   "metadata": {},
   "outputs": [],
   "source": [
    "# находим оценку коэффициентов методом 2-МНК\n",
    "zt = z.transpose()\n",
    "ztz = np.dot(zt,z)\n",
    "inv_z = inv(ztz)\n",
    "x_t_z = np.dot(x_tr, z)\n",
    "z_t_x = np.dot(zt, x_matrix)\n",
    "fpart = np.dot(x_t_z, inv_z)\n",
    "first = np.dot(fpart, z_t_x)\n",
    "second = inv(first)\n",
    "third = np.dot(second, x_t_z)\n",
    "fourth = np.dot(third,inv_z)\n",
    "z_t_y = np.dot(zt, y_matrix)\n",
    "betta_2sls = np.dot(fourth,z_t_y)"
   ]
  },
  {
   "cell_type": "code",
   "execution_count": 21,
   "metadata": {
    "scrolled": true
   },
   "outputs": [
    {
     "name": "stdout",
     "output_type": "stream",
     "text": [
      "[[ 1.59133541e+02]\n",
      " [-1.20745951e+00]\n",
      " [ 7.58311423e-02]]\n"
     ]
    }
   ],
   "source": [
    "print(betta_2sls)"
   ]
  },
  {
   "cell_type": "code",
   "execution_count": 22,
   "metadata": {},
   "outputs": [
    {
     "name": "stdout",
     "output_type": "stream",
     "text": [
      "159.134\n"
     ]
    }
   ],
   "source": [
    "print(\"%.3f\" % (betta_2sls[0]))"
   ]
  },
  {
   "cell_type": "code",
   "execution_count": 23,
   "metadata": {},
   "outputs": [
    {
     "name": "stdout",
     "output_type": "stream",
     "text": [
      "-1.207\n"
     ]
    }
   ],
   "source": [
    "print(\"%.3f\" % (betta_2sls[1]))"
   ]
  },
  {
   "cell_type": "code",
   "execution_count": 24,
   "metadata": {},
   "outputs": [
    {
     "name": "stdout",
     "output_type": "stream",
     "text": [
      "0.076\n"
     ]
    }
   ],
   "source": [
    "print(\"%.3f\" % (betta_2sls[2]))"
   ]
  },
  {
   "cell_type": "code",
   "execution_count": 25,
   "metadata": {},
   "outputs": [
    {
     "data": {
      "text/plain": [
       "(15, 3)"
      ]
     },
     "execution_count": 25,
     "metadata": {},
     "output_type": "execute_result"
    }
   ],
   "source": [
    "x_matrix.shape"
   ]
  },
  {
   "cell_type": "code",
   "execution_count": 26,
   "metadata": {},
   "outputs": [
    {
     "data": {
      "text/plain": [
       "(15, 4)"
      ]
     },
     "execution_count": 26,
     "metadata": {},
     "output_type": "execute_result"
    }
   ],
   "source": [
    "z.shape"
   ]
  },
  {
   "cell_type": "code",
   "execution_count": 27,
   "metadata": {},
   "outputs": [
    {
     "data": {
      "text/plain": [
       "(15, 1)"
      ]
     },
     "execution_count": 27,
     "metadata": {},
     "output_type": "execute_result"
    }
   ],
   "source": [
    "y_matrix.shape"
   ]
  },
  {
   "cell_type": "markdown",
   "metadata": {},
   "source": [
    "### Алгоритмический метод"
   ]
  },
  {
   "cell_type": "code",
   "execution_count": 28,
   "metadata": {
    "scrolled": true
   },
   "outputs": [
    {
     "name": "stdout",
     "output_type": "stream",
     "text": [
      "[[ 2.51982818e-01 -1.26128538e-01  5.69956929e-02  1.19133308e-01\n",
      "   5.43195472e-02  5.31257438e-02 -8.76670160e-02  2.25361755e-01\n",
      "   3.58056078e-02  1.44106105e-01  5.10269877e-03 -2.91582941e-02\n",
      "  -5.29144533e-02  1.30586345e-01  2.19348680e-01]\n",
      " [-1.26128538e-01  6.72525359e-01  1.49022235e-01 -8.96627539e-02\n",
      "   1.44615244e-01  1.60656603e-01 -1.62513575e-01 -1.06299391e-01\n",
      "   1.96913719e-01  1.68772730e-03  1.38839661e-01  1.48633543e-01\n",
      "  -3.82830137e-02 -3.78440075e-04 -8.96283782e-02]\n",
      " [ 5.69956929e-02  1.49022235e-01  8.34253457e-02 -3.72798070e-04\n",
      "   6.32826413e-02  7.22577484e-02  6.42523904e-03  7.06432123e-02\n",
      "   7.79486849e-02  7.30795156e-02  8.32597651e-02  8.08779436e-02\n",
      "   3.99876439e-02  7.42474182e-02  6.89197124e-02]\n",
      " [ 1.19133308e-01 -8.96627539e-02 -3.72798069e-04  7.41349561e-01\n",
      "   2.61793590e-01  1.71529499e-01  1.03956478e-01 -7.41833034e-02\n",
      "   1.40967996e-01 -2.07872210e-02 -1.16776070e-01 -1.26051621e-01\n",
      "  -1.94623735e-02 -6.64666789e-02 -2.49676123e-02]\n",
      " [ 5.43195472e-02  1.44615244e-01  6.32826413e-02  2.61793590e-01\n",
      "   1.50801908e-01  1.24040959e-01  8.62883644e-03 -8.80251481e-03\n",
      "   1.20980644e-01  2.82671969e-02  1.65012104e-02  1.25759617e-02\n",
      "   5.60586887e-04  1.10201090e-02  1.14140810e-02]\n",
      " [ 5.31257438e-02  1.60656603e-01  7.22577484e-02  1.71529499e-01\n",
      "   1.24040959e-01  1.09545699e-01 -2.31737978e-03  1.54071165e-02\n",
      "   1.10127985e-01  4.26721453e-02  3.94813587e-02  3.56572416e-02\n",
      "   7.88664882e-03  3.11619281e-02  2.87667045e-02]\n",
      " [-8.76670160e-02 -1.62513575e-01  6.42523904e-03  1.03956478e-01\n",
      "   8.62883644e-03 -2.31737978e-03  5.70444293e-01 -5.29414597e-02\n",
      "  -4.87131903e-03 -1.00108266e-02  1.14483455e-01  1.68036314e-01\n",
      "   3.89737771e-01  1.79816871e-02 -5.93724976e-02]\n",
      " [ 2.25361755e-01 -1.06299391e-01  7.06432123e-02 -7.41833034e-02\n",
      "  -8.80251481e-03  1.54071165e-02 -5.29414597e-02  2.58294630e-01\n",
      "   6.46071643e-03  1.63898094e-01  6.23263940e-02  3.52841327e-02\n",
      "   1.23277987e-03  1.66220867e-01  2.37096971e-01]\n",
      " [ 3.58056078e-02  1.96913719e-01  7.79486849e-02  1.40967996e-01\n",
      "   1.20980644e-01  1.10127985e-01 -4.87131903e-03  6.46071643e-03\n",
      "   1.13850303e-01  3.96407683e-02  5.10502168e-02  4.94665268e-02\n",
      "   1.23925544e-02  3.01936603e-02  1.90719372e-02]\n",
      " [ 1.44106105e-01  1.68772730e-03  7.30795156e-02 -2.07872210e-02\n",
      "   2.82671969e-02  4.26721453e-02 -1.00108266e-02  1.63898094e-01\n",
      "   3.96407683e-02  1.17162534e-01  6.85175175e-02  5.42150017e-02\n",
      "   2.61418662e-02  1.18524836e-01  1.52884739e-01]\n",
      " [ 5.10269877e-03  1.38839661e-01  8.32597651e-02 -1.16776070e-01\n",
      "   1.65012104e-02  3.94813587e-02  1.14483455e-01  6.23263940e-02\n",
      "   5.10502168e-02  6.85175175e-02  1.29671455e-01  1.42103059e-01\n",
      "   1.30193760e-01  8.45518414e-02  5.06936777e-02]\n",
      " [-2.91582941e-02  1.48633543e-01  8.08779435e-02 -1.26051621e-01\n",
      "   1.25759617e-02  3.56572416e-02  1.68036314e-01  3.52841327e-02\n",
      "   4.94665268e-02  5.42150017e-02  1.42103059e-01  1.62575543e-01\n",
      "   1.67981075e-01  7.42166645e-02  2.35869078e-02]\n",
      " [-5.29144533e-02 -3.82830137e-02  3.99876439e-02 -1.94623735e-02\n",
      "   5.60586881e-04  7.88664882e-03  3.89737771e-01  1.23277987e-03\n",
      "   1.23925544e-02  2.61418662e-02  1.30193760e-01  1.67981075e-01\n",
      "   2.92653041e-01  5.19448221e-02 -1.00527092e-02]\n",
      " [ 1.30586345e-01 -3.78440072e-04  7.42474182e-02 -6.64666789e-02\n",
      "   1.10201090e-02  3.11619281e-02  1.79816871e-02  1.66220867e-01\n",
      "   3.01936603e-02  1.18524836e-01  8.45518414e-02  7.42166645e-02\n",
      "   5.19448221e-02  1.24837332e-01  1.51357608e-01]\n",
      " [ 2.19348680e-01 -8.96283782e-02  6.89197124e-02 -2.49676123e-02\n",
      "   1.14140810e-02  2.87667045e-02 -5.93724976e-02  2.37096971e-01\n",
      "   1.90719372e-02  1.52884739e-01  5.06936777e-02  2.35869078e-02\n",
      "  -1.00527092e-02  1.51357608e-01  2.20880179e-01]]\n"
     ]
    }
   ],
   "source": [
    "# 1 шаг: определение матрицы Nz\n",
    "N = np.dot(z,inv_z)\n",
    "Nz = np.dot(N,zt)\n",
    "print(Nz)"
   ]
  },
  {
   "cell_type": "code",
   "execution_count": 29,
   "metadata": {},
   "outputs": [],
   "source": [
    "x_hat = np.dot(Nz,x_matrix) #получили предсказанные значения регрессора "
   ]
  },
  {
   "cell_type": "code",
   "execution_count": 30,
   "metadata": {},
   "outputs": [
    {
     "name": "stdout",
     "output_type": "stream",
     "text": [
      "[[  1.         104.30000001 327.48653   ]\n",
      " [  1.          94.2        293.52833512]\n",
      " [  1.         102.8        259.30480575]\n",
      " [  1.          98.7        502.0227223 ]\n",
      " [  1.          99.80000001 357.55279536]\n",
      " [  1.         100.5        327.37834705]\n",
      " [  1.         112.8        109.41137616]\n",
      " [  1.         106.7        243.79835037]\n",
      " [  1.         100.3        317.59864737]\n",
      " [  1.         105.         253.01336198]\n",
      " [  1.         105.6        180.34151106]\n",
      " [  1.         106.2        159.89131543]\n",
      " [  1.         110.3        124.06722616]\n",
      " [  1.         105.90000001 226.70599322]\n",
      " [  1.         105.8        264.89868275]]\n"
     ]
    }
   ],
   "source": [
    "print(x_hat)"
   ]
  },
  {
   "cell_type": "code",
   "execution_count": 31,
   "metadata": {},
   "outputs": [],
   "source": [
    "# 2 шаг: оценка коэффициентов регрессии (y на предсказанное на предыдущем шаге х)\n",
    "x_hat_t = x_hat.transpose()\n",
    "first = np.dot(x_hat_t, x_matrix)\n",
    "second = inv(first)\n",
    "third = np.dot(second,x_hat_t)\n",
    "b2sls = np.dot(third, y_matrix)"
   ]
  },
  {
   "cell_type": "code",
   "execution_count": 32,
   "metadata": {},
   "outputs": [
    {
     "name": "stdout",
     "output_type": "stream",
     "text": [
      "[[ 1.59133543e+02]\n",
      " [-1.20745953e+00]\n",
      " [ 7.58311416e-02]]\n"
     ]
    }
   ],
   "source": [
    "print(b2sls)"
   ]
  },
  {
   "cell_type": "markdown",
   "metadata": {},
   "source": [
    "### Проверка полученных результатов"
   ]
  },
  {
   "cell_type": "code",
   "execution_count": 33,
   "metadata": {},
   "outputs": [
    {
     "data": {
      "text/html": [
       "<div>\n",
       "<style scoped>\n",
       "    .dataframe tbody tr th:only-of-type {\n",
       "        vertical-align: middle;\n",
       "    }\n",
       "\n",
       "    .dataframe tbody tr th {\n",
       "        vertical-align: top;\n",
       "    }\n",
       "\n",
       "    .dataframe thead th {\n",
       "        text-align: right;\n",
       "    }\n",
       "</style>\n",
       "<table border=\"1\" class=\"dataframe\">\n",
       "  <thead>\n",
       "    <tr style=\"text-align: right;\">\n",
       "      <th></th>\n",
       "      <th>X2</th>\n",
       "    </tr>\n",
       "  </thead>\n",
       "  <tbody>\n",
       "    <tr>\n",
       "      <th>0</th>\n",
       "      <td>270</td>\n",
       "    </tr>\n",
       "    <tr>\n",
       "      <th>1</th>\n",
       "      <td>172</td>\n",
       "    </tr>\n",
       "    <tr>\n",
       "      <th>2</th>\n",
       "      <td>324</td>\n",
       "    </tr>\n",
       "    <tr>\n",
       "      <th>3</th>\n",
       "      <td>428</td>\n",
       "    </tr>\n",
       "    <tr>\n",
       "      <th>4</th>\n",
       "      <td>420</td>\n",
       "    </tr>\n",
       "    <tr>\n",
       "      <th>5</th>\n",
       "      <td>473</td>\n",
       "    </tr>\n",
       "    <tr>\n",
       "      <th>6</th>\n",
       "      <td>82</td>\n",
       "    </tr>\n",
       "    <tr>\n",
       "      <th>7</th>\n",
       "      <td>276</td>\n",
       "    </tr>\n",
       "    <tr>\n",
       "      <th>8</th>\n",
       "      <td>409</td>\n",
       "    </tr>\n",
       "    <tr>\n",
       "      <th>9</th>\n",
       "      <td>191</td>\n",
       "    </tr>\n",
       "    <tr>\n",
       "      <th>10</th>\n",
       "      <td>231</td>\n",
       "    </tr>\n",
       "    <tr>\n",
       "      <th>11</th>\n",
       "      <td>131</td>\n",
       "    </tr>\n",
       "    <tr>\n",
       "      <th>12</th>\n",
       "      <td>115</td>\n",
       "    </tr>\n",
       "    <tr>\n",
       "      <th>13</th>\n",
       "      <td>202</td>\n",
       "    </tr>\n",
       "    <tr>\n",
       "      <th>14</th>\n",
       "      <td>223</td>\n",
       "    </tr>\n",
       "  </tbody>\n",
       "</table>\n",
       "</div>"
      ],
      "text/plain": [
       "     X2\n",
       "0   270\n",
       "1   172\n",
       "2   324\n",
       "3   428\n",
       "4   420\n",
       "5   473\n",
       "6    82\n",
       "7   276\n",
       "8   409\n",
       "9   191\n",
       "10  231\n",
       "11  131\n",
       "12  115\n",
       "13  202\n",
       "14  223"
      ]
     },
     "execution_count": 33,
     "metadata": {},
     "output_type": "execute_result"
    }
   ],
   "source": [
    "endog = x_matrix.drop(['X1','CONST'], axis = 1)\n",
    "endog"
   ]
  },
  {
   "cell_type": "code",
   "execution_count": 34,
   "metadata": {},
   "outputs": [
    {
     "data": {
      "text/html": [
       "<div>\n",
       "<style scoped>\n",
       "    .dataframe tbody tr th:only-of-type {\n",
       "        vertical-align: middle;\n",
       "    }\n",
       "\n",
       "    .dataframe tbody tr th {\n",
       "        vertical-align: top;\n",
       "    }\n",
       "\n",
       "    .dataframe thead th {\n",
       "        text-align: right;\n",
       "    }\n",
       "</style>\n",
       "<table border=\"1\" class=\"dataframe\">\n",
       "  <thead>\n",
       "    <tr style=\"text-align: right;\">\n",
       "      <th></th>\n",
       "      <th>CONST</th>\n",
       "      <th>X1</th>\n",
       "    </tr>\n",
       "  </thead>\n",
       "  <tbody>\n",
       "    <tr>\n",
       "      <th>0</th>\n",
       "      <td>1</td>\n",
       "      <td>104.3</td>\n",
       "    </tr>\n",
       "    <tr>\n",
       "      <th>1</th>\n",
       "      <td>1</td>\n",
       "      <td>94.2</td>\n",
       "    </tr>\n",
       "    <tr>\n",
       "      <th>2</th>\n",
       "      <td>1</td>\n",
       "      <td>102.8</td>\n",
       "    </tr>\n",
       "    <tr>\n",
       "      <th>3</th>\n",
       "      <td>1</td>\n",
       "      <td>98.7</td>\n",
       "    </tr>\n",
       "    <tr>\n",
       "      <th>4</th>\n",
       "      <td>1</td>\n",
       "      <td>99.8</td>\n",
       "    </tr>\n",
       "    <tr>\n",
       "      <th>5</th>\n",
       "      <td>1</td>\n",
       "      <td>100.5</td>\n",
       "    </tr>\n",
       "    <tr>\n",
       "      <th>6</th>\n",
       "      <td>1</td>\n",
       "      <td>112.8</td>\n",
       "    </tr>\n",
       "    <tr>\n",
       "      <th>7</th>\n",
       "      <td>1</td>\n",
       "      <td>106.7</td>\n",
       "    </tr>\n",
       "    <tr>\n",
       "      <th>8</th>\n",
       "      <td>1</td>\n",
       "      <td>100.3</td>\n",
       "    </tr>\n",
       "    <tr>\n",
       "      <th>9</th>\n",
       "      <td>1</td>\n",
       "      <td>105.0</td>\n",
       "    </tr>\n",
       "    <tr>\n",
       "      <th>10</th>\n",
       "      <td>1</td>\n",
       "      <td>105.6</td>\n",
       "    </tr>\n",
       "    <tr>\n",
       "      <th>11</th>\n",
       "      <td>1</td>\n",
       "      <td>106.2</td>\n",
       "    </tr>\n",
       "    <tr>\n",
       "      <th>12</th>\n",
       "      <td>1</td>\n",
       "      <td>110.3</td>\n",
       "    </tr>\n",
       "    <tr>\n",
       "      <th>13</th>\n",
       "      <td>1</td>\n",
       "      <td>105.9</td>\n",
       "    </tr>\n",
       "    <tr>\n",
       "      <th>14</th>\n",
       "      <td>1</td>\n",
       "      <td>105.8</td>\n",
       "    </tr>\n",
       "  </tbody>\n",
       "</table>\n",
       "</div>"
      ],
      "text/plain": [
       "    CONST     X1\n",
       "0       1  104.3\n",
       "1       1   94.2\n",
       "2       1  102.8\n",
       "3       1   98.7\n",
       "4       1   99.8\n",
       "5       1  100.5\n",
       "6       1  112.8\n",
       "7       1  106.7\n",
       "8       1  100.3\n",
       "9       1  105.0\n",
       "10      1  105.6\n",
       "11      1  106.2\n",
       "12      1  110.3\n",
       "13      1  105.9\n",
       "14      1  105.8"
      ]
     },
     "execution_count": 34,
     "metadata": {},
     "output_type": "execute_result"
    }
   ],
   "source": [
    "exog_par = df.drop(['Y1', 'U1', 'U2', 'X2'], axis = 1)\n",
    "exog_par"
   ]
  },
  {
   "cell_type": "code",
   "execution_count": 35,
   "metadata": {},
   "outputs": [
    {
     "data": {
      "text/html": [
       "<div>\n",
       "<style scoped>\n",
       "    .dataframe tbody tr th:only-of-type {\n",
       "        vertical-align: middle;\n",
       "    }\n",
       "\n",
       "    .dataframe tbody tr th {\n",
       "        vertical-align: top;\n",
       "    }\n",
       "\n",
       "    .dataframe thead th {\n",
       "        text-align: right;\n",
       "    }\n",
       "</style>\n",
       "<table border=\"1\" class=\"dataframe\">\n",
       "  <thead>\n",
       "    <tr style=\"text-align: right;\">\n",
       "      <th></th>\n",
       "      <th>U1</th>\n",
       "      <th>U2</th>\n",
       "    </tr>\n",
       "  </thead>\n",
       "  <tbody>\n",
       "    <tr>\n",
       "      <th>0</th>\n",
       "      <td>97.8</td>\n",
       "      <td>102.0054</td>\n",
       "    </tr>\n",
       "    <tr>\n",
       "      <th>1</th>\n",
       "      <td>105.7</td>\n",
       "      <td>99.5694</td>\n",
       "    </tr>\n",
       "    <tr>\n",
       "      <th>2</th>\n",
       "      <td>103.3</td>\n",
       "      <td>106.1924</td>\n",
       "    </tr>\n",
       "    <tr>\n",
       "      <th>3</th>\n",
       "      <td>95.1</td>\n",
       "      <td>93.8637</td>\n",
       "    </tr>\n",
       "    <tr>\n",
       "      <th>4</th>\n",
       "      <td>100.5</td>\n",
       "      <td>100.2990</td>\n",
       "    </tr>\n",
       "    <tr>\n",
       "      <th>5</th>\n",
       "      <td>101.4</td>\n",
       "      <td>101.9070</td>\n",
       "    </tr>\n",
       "    <tr>\n",
       "      <th>6</th>\n",
       "      <td>110.1</td>\n",
       "      <td>124.1928</td>\n",
       "    </tr>\n",
       "    <tr>\n",
       "      <th>7</th>\n",
       "      <td>100.7</td>\n",
       "      <td>107.4469</td>\n",
       "    </tr>\n",
       "    <tr>\n",
       "      <th>8</th>\n",
       "      <td>102.0</td>\n",
       "      <td>102.3060</td>\n",
       "    </tr>\n",
       "    <tr>\n",
       "      <th>9</th>\n",
       "      <td>101.9</td>\n",
       "      <td>106.9950</td>\n",
       "    </tr>\n",
       "    <tr>\n",
       "      <th>10</th>\n",
       "      <td>106.5</td>\n",
       "      <td>112.4640</td>\n",
       "    </tr>\n",
       "    <tr>\n",
       "      <th>11</th>\n",
       "      <td>107.7</td>\n",
       "      <td>114.3774</td>\n",
       "    </tr>\n",
       "    <tr>\n",
       "      <th>12</th>\n",
       "      <td>109.1</td>\n",
       "      <td>120.3373</td>\n",
       "    </tr>\n",
       "    <tr>\n",
       "      <th>13</th>\n",
       "      <td>102.9</td>\n",
       "      <td>108.9711</td>\n",
       "    </tr>\n",
       "    <tr>\n",
       "      <th>14</th>\n",
       "      <td>100.2</td>\n",
       "      <td>106.0116</td>\n",
       "    </tr>\n",
       "  </tbody>\n",
       "</table>\n",
       "</div>"
      ],
      "text/plain": [
       "       U1        U2\n",
       "0    97.8  102.0054\n",
       "1   105.7   99.5694\n",
       "2   103.3  106.1924\n",
       "3    95.1   93.8637\n",
       "4   100.5  100.2990\n",
       "5   101.4  101.9070\n",
       "6   110.1  124.1928\n",
       "7   100.7  107.4469\n",
       "8   102.0  102.3060\n",
       "9   101.9  106.9950\n",
       "10  106.5  112.4640\n",
       "11  107.7  114.3774\n",
       "12  109.1  120.3373\n",
       "13  102.9  108.9711\n",
       "14  100.2  106.0116"
      ]
     },
     "execution_count": 35,
     "metadata": {},
     "output_type": "execute_result"
    }
   ],
   "source": [
    "instruments = df.drop(['Y1', 'CONST', 'X2', 'X1'], axis = 1)\n",
    "instruments"
   ]
  },
  {
   "cell_type": "code",
   "execution_count": 36,
   "metadata": {},
   "outputs": [
    {
     "name": "stdout",
     "output_type": "stream",
     "text": [
      "                          IV-2SLS Estimation Summary                          \n",
      "==============================================================================\n",
      "Dep. Variable:                     Y1   R-squared:                      0.6778\n",
      "Estimator:                    IV-2SLS   Adj. R-squared:                 0.6241\n",
      "No. Observations:                  15   F-statistic:                    37.288\n",
      "Date:                Sun, Mar 31 2019   P-value (F-stat)                0.0000\n",
      "Time:                        14:02:59   Distribution:                  chi2(2)\n",
      "Cov. Estimator:            unadjusted                                         \n",
      "                                                                              \n",
      "                             Parameter Estimates                              \n",
      "==============================================================================\n",
      "            Parameter  Std. Err.     T-stat    P-value    Lower CI    Upper CI\n",
      "------------------------------------------------------------------------------\n",
      "CONST          159.13     77.910     2.0425     0.0411      6.4323      311.83\n",
      "X1            -1.2075     0.6849    -1.7629     0.0779     -2.5499      0.1349\n",
      "X2             0.0758     0.0321     2.3611     0.0182      0.0129      0.1388\n",
      "==============================================================================\n",
      "\n",
      "Endogenous: X2\n",
      "Instruments: U1, U2\n",
      "Unadjusted Covariance (Homoskedastic)\n",
      "Debiased: False\n"
     ]
    }
   ],
   "source": [
    "from linearmodels.iv import IV2SLS\n",
    "iv = IV2SLS(dependent=y_matrix,\n",
    "            exog=exog_par,\n",
    "            endog=endog,\n",
    "            instruments=instruments).fit(cov_type='unadjusted')\n",
    "\n",
    "print(iv.summary)"
   ]
  },
  {
   "cell_type": "markdown",
   "metadata": {},
   "source": [
    "#### Видим, что оценки, найденные по формуле, затем алгоритмически в два шага совпадают с оценками, которые были найдены при помощи встроенной функции. Она абсолютно дублирует листинг, который выдает EViews."
   ]
  }
 ],
 "metadata": {
  "kernelspec": {
   "display_name": "Python 3",
   "language": "python",
   "name": "python3"
  },
  "language_info": {
   "codemirror_mode": {
    "name": "ipython",
    "version": 3
   },
   "file_extension": ".py",
   "mimetype": "text/x-python",
   "name": "python",
   "nbconvert_exporter": "python",
   "pygments_lexer": "ipython3",
   "version": "3.6.5"
  }
 },
 "nbformat": 4,
 "nbformat_minor": 2
}
